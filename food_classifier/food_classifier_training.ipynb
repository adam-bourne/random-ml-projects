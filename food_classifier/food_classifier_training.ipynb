{
 "cells": [
  {
   "cell_type": "code",
   "execution_count": null,
   "id": "6832f0b6",
   "metadata": {},
   "outputs": [],
   "source": [
    "# install what we need\n",
    "# !pip3 install transformers datasets evaluate\n",
    "# !pip3 install tensorflow\n",
    "\n",
    "# for tensorflow to detect CUDA devices\n",
    "import os\n",
    "os.environ['CUDA_VISIBLE_DEVICES'] = \"0\"\n",
    "\n",
    "from huggingface_hub import notebook_login\n",
    "from datasets import load_dataset\n",
    "from transformers import (AutoImageProcessor, \n",
    "                          DefaultDataCollator, \n",
    "                          create_optimizer, \n",
    "                          TFAutoModelForImageClassification)\n",
    "\n",
    "import tensorflow as tf\n",
    "from tensorflow import keras\n",
    "from tensorflow.keras import layers\n",
    "from tensorflow.keras.losses import SparseCategoricalCrossentropy\n",
    "from transformers.keras_callbacks import KerasMetricCallback, PushToHubCallback\n",
    "import numpy as np\n",
    "from PIL import Image\n",
    "\n",
    "import evaluate\n",
    "\n",
    "# login to the hugging face hub\n",
    "notebook_login()"
   ]
  },
  {
   "cell_type": "markdown",
   "id": "e85342d0",
   "metadata": {},
   "source": [
    "## Load the dataset"
   ]
  },
  {
   "cell_type": "code",
   "execution_count": null,
   "id": "176b58a7",
   "metadata": {},
   "outputs": [],
   "source": [
    "# we will load a subsection of the dataset to make initial work easier beofre using the whole thing\n",
    "food = load_dataset(\"food101\", split=\"train[:5000]\")"
   ]
  },
  {
   "cell_type": "code",
   "execution_count": null,
   "id": "1ada121f",
   "metadata": {},
   "outputs": [],
   "source": [
    "# split into test and train\n",
    "food = food.train_test_split(test_size=0.2)\n",
    "\n",
    "# and look at a sample of the data\n",
    "food[\"train\"][0]"
   ]
  },
  {
   "cell_type": "code",
   "execution_count": null,
   "id": "4fe14383",
   "metadata": {},
   "outputs": [],
   "source": [
    "# as you can see above, each row in the dataset is a PIL image and a feature label\n",
    "# the feature label corresponds to a food description of the image, saved in the features[\"labels\"].names attribute of\n",
    "# food[\"train\"]\n",
    "\n",
    "labels = food[\"train\"].features[\"label\"].names\n",
    "for i, label in enumerate(labels[:10]):\n",
    "    print(i, label)"
   ]
  },
  {
   "cell_type": "code",
   "execution_count": null,
   "id": "106a3581",
   "metadata": {},
   "outputs": [],
   "source": [
    "# to make it easier for the model to get the label from the id, we can create a couple of mapping dicts\n",
    "# that go id --> label and label --> id\n",
    "label2id, id2label = dict(), dict()\n",
    "for i, label in enumerate(labels):\n",
    "    label2id[label] = str(i)\n",
    "    id2label[str(i)] = label\n",
    "    \n",
    "id2label[str(45)]"
   ]
  },
  {
   "cell_type": "markdown",
   "id": "ac678715",
   "metadata": {},
   "source": [
    "## Preprocess"
   ]
  },
  {
   "cell_type": "code",
   "execution_count": null,
   "id": "3cc8df98",
   "metadata": {},
   "outputs": [],
   "source": [
    "# now we have to load a ViT (Vision Transformer) image processor to process each image into a tensor which can \n",
    "# then be used by our models\n",
    "\n",
    "# state the processor we want to use, let's use google's main one as it's very popular\n",
    "checkpoint = \"google/vit-base-patch16-224-in21k\"\n",
    "image_processor = AutoImageProcessor.from_pretrained(checkpoint)\n",
    "\n",
    "# the image processor has built-in height and width dimensions for each image\n",
    "print(image_processor.size[\"height\"])\n",
    "print(image_processor.size[\"width\"])"
   ]
  },
  {
   "cell_type": "code",
   "execution_count": null,
   "id": "bca60303",
   "metadata": {},
   "outputs": [],
   "source": [
    "# we should add some preprocessing layers to make our model a stronger predictor\n",
    "\n",
    "size = (image_processor.size[\"height\"], image_processor.size[\"width\"])\n",
    "\n",
    "# for training set\n",
    "train_data_augmentation = keras.Sequential(\n",
    "    [\n",
    "        layers.RandomCrop(size[0], size[1]),\n",
    "        layers.Rescaling(scale=1.0 / 127.5, offset=-1),\n",
    "        layers.RandomFlip(\"horizontal\"),\n",
    "        layers.RandomRotation(factor=0.02),\n",
    "        layers.RandomZoom(height_factor=0.2, width_factor=0.2),\n",
    "    ],\n",
    "    name=\"train_data_augmentation\",\n",
    ")\n",
    "\n",
    "# for validation set\n",
    "val_data_augmentation = keras.Sequential(\n",
    "    [\n",
    "        layers.CenterCrop(size[0], size[1]),\n",
    "        layers.Rescaling(scale=1.0 / 127.5, offset=-1),\n",
    "    ],\n",
    "    name=\"val_data_augmentation\",\n",
    ")"
   ]
  },
  {
   "cell_type": "code",
   "execution_count": null,
   "id": "51af6c72",
   "metadata": {},
   "outputs": [],
   "source": [
    "# let's create some functions to apply our transformations to a batch of images rather than one at a time\n",
    "\n",
    "def image_to_tensor(image: Image):\n",
    "    np_image = np.array(image)\n",
    "    tf_image = tf.convert_to_tensor(np_image)\n",
    "    \n",
    "    # `expand_dims()` is used to add a batch dimension since\n",
    "    # the TF augmentation layers operates on batched inputs.\n",
    "    tf_image = tf.expand_dims(tf_image, 0)\n",
    "    \n",
    "    return tf_image\n",
    "\n",
    "def preprocess_train(example_batch):\n",
    "    \"\"\"Apply train_transforms across a batch\"\"\"\n",
    "    \n",
    "    images = [\n",
    "        train_data_augmentation(image_to_tensor(image.convert(\"RGB\"))) for image in example_batch[\"image\"]\n",
    "    ]\n",
    "    example_batch[\"pixel_values\"] = [tf.transpose(tf.squeeze(image)) for image in images]\n",
    "    \n",
    "    return example_batch\n",
    "\n",
    "def preprocess_val(example_batch):\n",
    "    \"\"\"Apply val_transforms across a batch\"\"\"\n",
    "    \n",
    "    images = [\n",
    "        val_data_augmentation(image_to_tensor(image.convert(\"RGB\"))) for image in example_batch[\"image\"]\n",
    "    ]\n",
    "    example_batch[\"pixel_values\"] = [tf.transpose(tf.squeeze(image)) for image in images]\n",
    "    \n",
    "    return example_batch"
   ]
  },
  {
   "cell_type": "code",
   "execution_count": null,
   "id": "f349d3dd",
   "metadata": {},
   "outputs": [],
   "source": [
    "# the hugging face dataset class has a set_transform() method which can apply a transformation pipeline on the fly\n",
    "food[\"train\"].set_transform(preprocess_train)\n",
    "food[\"test\"].set_transform(preprocess_val)"
   ]
  },
  {
   "cell_type": "code",
   "execution_count": null,
   "id": "0ac4bee7",
   "metadata": {},
   "outputs": [],
   "source": [
    "# create a batch of samples using the default data collator\n",
    "data_collator = DefaultDataCollator(return_tensors=\"tf\")"
   ]
  },
  {
   "cell_type": "markdown",
   "id": "27a0130b",
   "metadata": {},
   "source": [
    "## Evaluate"
   ]
  },
  {
   "cell_type": "code",
   "execution_count": null,
   "id": "87fc1662",
   "metadata": {},
   "outputs": [],
   "source": [
    "# to optimse during training we need to use a performance metric and function which can measure our model's \n",
    "# performance on the validation set\n",
    "\n",
    "accuracy = evaluate.load(\"accuracy\")\n",
    "\n",
    "def compute_metrics(eval_pred):\n",
    "    predictions, labels = eval_pred\n",
    "    predictions = np.argmax(predictions, axis=1)\n",
    "    acc_score = accuracy.compute(predictions=predictions, references=labels)\n",
    "    \n",
    "    return acc_score"
   ]
  },
  {
   "cell_type": "markdown",
   "id": "ce7cb535",
   "metadata": {},
   "source": [
    "## Train"
   ]
  },
  {
   "cell_type": "code",
   "execution_count": null,
   "id": "b3fbd2a3",
   "metadata": {},
   "outputs": [],
   "source": [
    "# define our hyperparams\n",
    "batch_size = 16\n",
    "num_epochs = 5\n",
    "num_train_steps = len(food[\"train\"]) * num_epochs\n",
    "lr = 3e-5\n",
    "weight_decay = 0.01\n",
    "\n",
    "# create our optimzer\n",
    "optimizer, lr_schedule = create_optimizer(\n",
    "    init_lr=lr,\n",
    "    num_train_steps=num_train_steps,\n",
    "    weight_decay_rate=weight_decay,\n",
    "    num_warmup_steps=0,\n",
    ")"
   ]
  },
  {
   "cell_type": "code",
   "execution_count": null,
   "id": "6c2d6933",
   "metadata": {},
   "outputs": [],
   "source": [
    "# the hugging face autoclasses create a model using the checkpoint I specify\n",
    "model = TFAutoModelForImageClassification.from_pretrained(\n",
    "    checkpoint,\n",
    "    id2label=id2label,\n",
    "    label2id=label2id,\n",
    ")"
   ]
  },
  {
   "cell_type": "code",
   "execution_count": null,
   "id": "a5769f5e",
   "metadata": {},
   "outputs": [],
   "source": [
    "# next we need to transform our dataset into the tf_dataset class\n",
    "tf_train_dataset = food[\"train\"].to_tf_dataset(\n",
    "    columns=\"pixel_values\", label_cols=\"label\", shuffle=True, batch_size=batch_size, collate_fn=data_collator\n",
    ")\n",
    "\n",
    "# same for eval\n",
    "tf_eval_dataset = food[\"test\"].to_tf_dataset(\n",
    "    columns=\"pixel_values\", label_cols=\"label\", shuffle=True, batch_size=batch_size, collate_fn=data_collator\n",
    ")"
   ]
  },
  {
   "cell_type": "code",
   "execution_count": null,
   "id": "249fc183",
   "metadata": {},
   "outputs": [],
   "source": [
    "# create our loss function and get model ready for trianing with compile\n",
    "loss = tf.keras.losses.SparseCategoricalCrossentropy(from_logits=True)\n",
    "model.compile(optimizer=optimizer, loss=loss)"
   ]
  },
  {
   "cell_type": "code",
   "execution_count": null,
   "id": "e23b21eb",
   "metadata": {},
   "outputs": [],
   "source": [
    "# callbacks customize the training loop for a model and inspect the training loop whilst its running, they can then\n",
    "# do a few tasks such as report on metrics, send the model to the hub and enforce early stopping\n",
    "metric_callback = KerasMetricCallback(metric_fn=compute_metrics, eval_dataset=tf_eval_dataset)\n",
    "# push_to_hub_callback = PushToHubCallback(\n",
    "#     output_dir=\"food_classifier\",\n",
    "#     tokenizer=image_processor,\n",
    "#     save_strategy=\"no\",\n",
    "# )\n",
    "callbacks = metric_callback"
   ]
  },
  {
   "cell_type": "code",
   "execution_count": null,
   "id": "40d6419f",
   "metadata": {},
   "outputs": [],
   "source": [
    "model.fit(tf_train_dataset, validation_data=tf_eval_dataset, epochs=num_epochs, callbacks=callbacks)"
   ]
  },
  {
   "cell_type": "code",
   "execution_count": null,
   "id": "d40eb911",
   "metadata": {},
   "outputs": [],
   "source": [
    "model.push_to_hub(\"food-classifier\")"
   ]
  }
 ],
 "metadata": {
  "kernelspec": {
   "display_name": "conda_tensorflow2_p310",
   "language": "python",
   "name": "conda_tensorflow2_p310"
  },
  "language_info": {
   "codemirror_mode": {
    "name": "ipython",
    "version": 3
   },
   "file_extension": ".py",
   "mimetype": "text/x-python",
   "name": "python",
   "nbconvert_exporter": "python",
   "pygments_lexer": "ipython3",
   "version": "3.10.10"
  }
 },
 "nbformat": 4,
 "nbformat_minor": 5
}
